{
 "cells": [
  {
   "cell_type": "markdown",
   "id": "a743efed",
   "metadata": {
    "papermill": {
     "duration": 0.028596,
     "end_time": "2022-03-25T16:23:24.842335",
     "exception": false,
     "start_time": "2022-03-25T16:23:24.813739",
     "status": "completed"
    },
    "tags": []
   },
   "source": [
    "# Perbandingan Rute Terpendek Graph Tak Berarah Menggunakan Q-Learning dan SARSA\n",
    "\n",
    "Andara Najla Jilan - EWAKO"
   ]
  },
  {
   "cell_type": "code",
   "execution_count": 1,
   "id": "8cb77373",
   "metadata": {
    "execution": {
     "iopub.execute_input": "2022-03-25T16:23:24.919132Z",
     "iopub.status.busy": "2022-03-25T16:23:24.918427Z",
     "iopub.status.idle": "2022-03-25T16:23:25.352697Z",
     "shell.execute_reply": "2022-03-25T16:23:25.353297Z",
     "shell.execute_reply.started": "2022-03-25T16:18:02.217992Z"
    },
    "papermill": {
     "duration": 0.482949,
     "end_time": "2022-03-25T16:23:25.353601",
     "exception": false,
     "start_time": "2022-03-25T16:23:24.870652",
     "status": "completed"
    },
    "tags": []
   },
   "outputs": [],
   "source": [
    "import numpy as np\n",
    "import pylab as plt \n",
    "import networkx as nx\n",
    "import pandas as pd "
   ]
  },
  {
   "cell_type": "markdown",
   "id": "0094d946",
   "metadata": {},
   "source": [
    "Buatlah graf tak berarah dengan 11 node (0-10)"
   ]
  },
  {
   "cell_type": "code",
   "execution_count": 2,
   "id": "42123a08",
   "metadata": {
    "_cell_guid": "b1076dfc-b9ad-4769-8c92-a6c4dae69d19",
    "_uuid": "8f2839f25d086af736a60e9eeb907d3b93b6e0e5",
    "execution": {
     "iopub.execute_input": "2022-03-25T16:23:25.407985Z",
     "iopub.status.busy": "2022-03-25T16:23:25.406982Z",
     "iopub.status.idle": "2022-03-25T16:23:25.412874Z",
     "shell.execute_reply": "2022-03-25T16:23:25.413447Z",
     "shell.execute_reply.started": "2022-03-25T16:18:02.407014Z"
    },
    "papermill": {
     "duration": 0.03488,
     "end_time": "2022-03-25T16:23:25.413617",
     "exception": false,
     "start_time": "2022-03-25T16:23:25.378737",
     "status": "completed"
    },
    "tags": []
   },
   "outputs": [],
   "source": [
    "\n",
    "edge_list = [(0, 2), (0, 1), (0, 3), (2, 4), (5, 6), (7, 4), (0, 6), (5, 3), (3, 7), (0, 8), (5, 7), (7, 9), (9, 4), (10, 1)]\n",
    "graph = nx.Graph()\n",
    "graph.add_edges_from(edge_list)"
   ]
  },
  {
   "cell_type": "code",
   "execution_count": 3,
   "id": "f3fb6503",
   "metadata": {
    "execution": {
     "iopub.execute_input": "2022-03-25T16:23:25.468954Z",
     "iopub.status.busy": "2022-03-25T16:23:25.467938Z",
     "iopub.status.idle": "2022-03-25T16:23:25.472045Z",
     "shell.execute_reply": "2022-03-25T16:23:25.472709Z",
     "shell.execute_reply.started": "2022-03-25T16:18:02.414699Z"
    },
    "papermill": {
     "duration": 0.033625,
     "end_time": "2022-03-25T16:23:25.472876",
     "exception": false,
     "start_time": "2022-03-25T16:23:25.439251",
     "status": "completed"
    },
    "tags": []
   },
   "outputs": [],
   "source": [
    "# tentukan node akhir\n",
    "goal = 9\n",
    "# initial state yang digunakan pada testing\n",
    "initial_state = 0"
   ]
  },
  {
   "cell_type": "code",
   "execution_count": 4,
   "id": "0a7fe5e9",
   "metadata": {
    "execution": {
     "iopub.execute_input": "2022-03-25T16:23:25.527238Z",
     "iopub.status.busy": "2022-03-25T16:23:25.526249Z",
     "iopub.status.idle": "2022-03-25T16:23:25.765481Z",
     "shell.execute_reply": "2022-03-25T16:23:25.764958Z",
     "shell.execute_reply.started": "2022-03-25T16:18:02.425674Z"
    },
    "papermill": {
     "duration": 0.267837,
     "end_time": "2022-03-25T16:23:25.765626",
     "exception": false,
     "start_time": "2022-03-25T16:23:25.497789",
     "status": "completed"
    },
    "tags": []
   },
   "outputs": [
    {
     "data": {
      "image/png": "[encoded data removed]",
      "text/plain": [
       "<Figure size 432x288 with 1 Axes>"
      ]
     },
     "metadata": {},
     "output_type": "display_data"
    }
   ],
   "source": [
    "#gambarkan graphnya\n",
    "position = nx.spring_layout(graph)\n",
    "\n",
    "nx.draw_networkx_nodes(graph, position)\n",
    "nx.draw_networkx_edges(graph, position)\n",
    "nx.draw_networkx_labels(graph, position)\n",
    "plt.show()"
   ]
  },
  {
   "cell_type": "code",
   "execution_count": 5,
   "id": "398a417b",
   "metadata": {
    "execution": {
     "iopub.execute_input": "2022-03-25T16:23:25.823740Z",
     "iopub.status.busy": "2022-03-25T16:23:25.822829Z",
     "iopub.status.idle": "2022-03-25T16:23:25.825032Z",
     "shell.execute_reply": "2022-03-25T16:23:25.825547Z",
     "shell.execute_reply.started": "2022-03-25T16:18:02.586969Z"
    },
    "papermill": {
     "duration": 0.033469,
     "end_time": "2022-03-25T16:23:25.825724",
     "exception": false,
     "start_time": "2022-03-25T16:23:25.792255",
     "status": "completed"
    },
    "tags": []
   },
   "outputs": [],
   "source": [
    "# ukuran size matrix dan reward table\n",
    "SIZE_MATRIX = 11"
   ]
  },
  {
   "cell_type": "code",
   "execution_count": 6,
   "id": "f009040a",
   "metadata": {
    "execution": {
     "iopub.execute_input": "2022-03-25T16:23:25.885626Z",
     "iopub.status.busy": "2022-03-25T16:23:25.884776Z",
     "iopub.status.idle": "2022-03-25T16:23:25.887257Z",
     "shell.execute_reply": "2022-03-25T16:23:25.887763Z",
     "shell.execute_reply.started": "2022-03-25T16:18:02.594060Z"
    },
    "papermill": {
     "duration": 0.034683,
     "end_time": "2022-03-25T16:23:25.887933",
     "exception": false,
     "start_time": "2022-03-25T16:23:25.853250",
     "status": "completed"
    },
    "tags": []
   },
   "outputs": [],
   "source": [
    "# buat reward matrix dengan initial value -1\n",
    "R = np.matrix(np.ones(shape=(SIZE_MATRIX, SIZE_MATRIX)))\n",
    "R *= -1"
   ]
  },
  {
   "cell_type": "code",
   "execution_count": 7,
   "id": "be815949",
   "metadata": {
    "execution": {
     "iopub.execute_input": "2022-03-25T16:23:25.950645Z",
     "iopub.status.busy": "2022-03-25T16:23:25.949727Z",
     "iopub.status.idle": "2022-03-25T16:23:25.978646Z",
     "shell.execute_reply": "2022-03-25T16:23:25.979144Z",
     "shell.execute_reply.started": "2022-03-25T16:18:02.606992Z"
    },
    "papermill": {
     "duration": 0.064816,
     "end_time": "2022-03-25T16:23:25.979351",
     "exception": false,
     "start_time": "2022-03-25T16:23:25.914535",
     "status": "completed"
    },
    "tags": []
   },
   "outputs": [
    {
     "data": {
      "text/html": [
       "<div>\n",
       "<style scoped>\n",
       "    .dataframe tbody tr th:only-of-type {\n",
       "        vertical-align: middle;\n",
       "    }\n",
       "\n",
       "    .dataframe tbody tr th {\n",
       "        vertical-align: top;\n",
       "    }\n",
       "\n",
       "    .dataframe thead th {\n",
       "        text-align: right;\n",
       "    }\n",
       "</style>\n",
       "<table border=\"1\" class=\"dataframe\">\n",
       "  <thead>\n",
       "    <tr style=\"text-align: right;\">\n",
       "      <th></th>\n",
       "      <th>0</th>\n",
       "      <th>1</th>\n",
       "      <th>2</th>\n",
       "      <th>3</th>\n",
       "      <th>4</th>\n",
       "      <th>5</th>\n",
       "      <th>6</th>\n",
       "      <th>7</th>\n",
       "      <th>8</th>\n",
       "      <th>9</th>\n",
       "      <th>10</th>\n",
       "    </tr>\n",
       "  </thead>\n",
       "  <tbody>\n",
       "    <tr>\n",
       "      <th>0</th>\n",
       "      <td>-1.0</td>\n",
       "      <td>0.0</td>\n",
       "      <td>0.0</td>\n",
       "      <td>0.0</td>\n",
       "      <td>-1.0</td>\n",
       "      <td>-1.0</td>\n",
       "      <td>0.0</td>\n",
       "      <td>-1.0</td>\n",
       "      <td>0.0</td>\n",
       "      <td>-1.0</td>\n",
       "      <td>-1.0</td>\n",
       "    </tr>\n",
       "    <tr>\n",
       "      <th>1</th>\n",
       "      <td>0.0</td>\n",
       "      <td>-1.0</td>\n",
       "      <td>-1.0</td>\n",
       "      <td>-1.0</td>\n",
       "      <td>-1.0</td>\n",
       "      <td>-1.0</td>\n",
       "      <td>-1.0</td>\n",
       "      <td>-1.0</td>\n",
       "      <td>-1.0</td>\n",
       "      <td>-1.0</td>\n",
       "      <td>0.0</td>\n",
       "    </tr>\n",
       "    <tr>\n",
       "      <th>2</th>\n",
       "      <td>0.0</td>\n",
       "      <td>-1.0</td>\n",
       "      <td>-1.0</td>\n",
       "      <td>-1.0</td>\n",
       "      <td>0.0</td>\n",
       "      <td>-1.0</td>\n",
       "      <td>-1.0</td>\n",
       "      <td>-1.0</td>\n",
       "      <td>-1.0</td>\n",
       "      <td>-1.0</td>\n",
       "      <td>-1.0</td>\n",
       "    </tr>\n",
       "    <tr>\n",
       "      <th>3</th>\n",
       "      <td>0.0</td>\n",
       "      <td>-1.0</td>\n",
       "      <td>-1.0</td>\n",
       "      <td>-1.0</td>\n",
       "      <td>-1.0</td>\n",
       "      <td>0.0</td>\n",
       "      <td>-1.0</td>\n",
       "      <td>0.0</td>\n",
       "      <td>-1.0</td>\n",
       "      <td>-1.0</td>\n",
       "      <td>-1.0</td>\n",
       "    </tr>\n",
       "    <tr>\n",
       "      <th>4</th>\n",
       "      <td>-1.0</td>\n",
       "      <td>-1.0</td>\n",
       "      <td>0.0</td>\n",
       "      <td>-1.0</td>\n",
       "      <td>-1.0</td>\n",
       "      <td>-1.0</td>\n",
       "      <td>-1.0</td>\n",
       "      <td>0.0</td>\n",
       "      <td>-1.0</td>\n",
       "      <td>100.0</td>\n",
       "      <td>-1.0</td>\n",
       "    </tr>\n",
       "    <tr>\n",
       "      <th>5</th>\n",
       "      <td>-1.0</td>\n",
       "      <td>-1.0</td>\n",
       "      <td>-1.0</td>\n",
       "      <td>0.0</td>\n",
       "      <td>-1.0</td>\n",
       "      <td>-1.0</td>\n",
       "      <td>0.0</td>\n",
       "      <td>0.0</td>\n",
       "      <td>-1.0</td>\n",
       "      <td>-1.0</td>\n",
       "      <td>-1.0</td>\n",
       "    </tr>\n",
       "    <tr>\n",
       "      <th>6</th>\n",
       "      <td>0.0</td>\n",
       "      <td>-1.0</td>\n",
       "      <td>-1.0</td>\n",
       "      <td>-1.0</td>\n",
       "      <td>-1.0</td>\n",
       "      <td>0.0</td>\n",
       "      <td>-1.0</td>\n",
       "      <td>-1.0</td>\n",
       "      <td>-1.0</td>\n",
       "      <td>-1.0</td>\n",
       "      <td>-1.0</td>\n",
       "    </tr>\n",
       "    <tr>\n",
       "      <th>7</th>\n",
       "      <td>-1.0</td>\n",
       "      <td>-1.0</td>\n",
       "      <td>-1.0</td>\n",
       "      <td>0.0</td>\n",
       "      <td>0.0</td>\n",
       "      <td>0.0</td>\n",
       "      <td>-1.0</td>\n",
       "      <td>-1.0</td>\n",
       "      <td>-1.0</td>\n",
       "      <td>100.0</td>\n",
       "      <td>-1.0</td>\n",
       "    </tr>\n",
       "    <tr>\n",
       "      <th>8</th>\n",
       "      <td>0.0</td>\n",
       "      <td>-1.0</td>\n",
       "      <td>-1.0</td>\n",
       "      <td>-1.0</td>\n",
       "      <td>-1.0</td>\n",
       "      <td>-1.0</td>\n",
       "      <td>-1.0</td>\n",
       "      <td>-1.0</td>\n",
       "      <td>-1.0</td>\n",
       "      <td>-1.0</td>\n",
       "      <td>-1.0</td>\n",
       "    </tr>\n",
       "    <tr>\n",
       "      <th>9</th>\n",
       "      <td>-1.0</td>\n",
       "      <td>-1.0</td>\n",
       "      <td>-1.0</td>\n",
       "      <td>-1.0</td>\n",
       "      <td>0.0</td>\n",
       "      <td>-1.0</td>\n",
       "      <td>-1.0</td>\n",
       "      <td>0.0</td>\n",
       "      <td>-1.0</td>\n",
       "      <td>100.0</td>\n",
       "      <td>-1.0</td>\n",
       "    </tr>\n",
       "    <tr>\n",
       "      <th>10</th>\n",
       "      <td>-1.0</td>\n",
       "      <td>0.0</td>\n",
       "      <td>-1.0</td>\n",
       "      <td>-1.0</td>\n",
       "      <td>-1.0</td>\n",
       "      <td>-1.0</td>\n",
       "      <td>-1.0</td>\n",
       "      <td>-1.0</td>\n",
       "      <td>-1.0</td>\n",
       "      <td>-1.0</td>\n",
       "      <td>-1.0</td>\n",
       "    </tr>\n",
       "  </tbody>\n",
       "</table>\n",
       "</div>"
      ],
      "text/plain": [
       "     0    1    2    3    4    5    6    7    8      9    10\n",
       "0  -1.0  0.0  0.0  0.0 -1.0 -1.0  0.0 -1.0  0.0   -1.0 -1.0\n",
       "1   0.0 -1.0 -1.0 -1.0 -1.0 -1.0 -1.0 -1.0 -1.0   -1.0  0.0\n",
       "2   0.0 -1.0 -1.0 -1.0  0.0 -1.0 -1.0 -1.0 -1.0   -1.0 -1.0\n",
       "3   0.0 -1.0 -1.0 -1.0 -1.0  0.0 -1.0  0.0 -1.0   -1.0 -1.0\n",
       "4  -1.0 -1.0  0.0 -1.0 -1.0 -1.0 -1.0  0.0 -1.0  100.0 -1.0\n",
       "5  -1.0 -1.0 -1.0  0.0 -1.0 -1.0  0.0  0.0 -1.0   -1.0 -1.0\n",
       "6   0.0 -1.0 -1.0 -1.0 -1.0  0.0 -1.0 -1.0 -1.0   -1.0 -1.0\n",
       "7  -1.0 -1.0 -1.0  0.0  0.0  0.0 -1.0 -1.0 -1.0  100.0 -1.0\n",
       "8   0.0 -1.0 -1.0 -1.0 -1.0 -1.0 -1.0 -1.0 -1.0   -1.0 -1.0\n",
       "9  -1.0 -1.0 -1.0 -1.0  0.0 -1.0 -1.0  0.0 -1.0  100.0 -1.0\n",
       "10 -1.0  0.0 -1.0 -1.0 -1.0 -1.0 -1.0 -1.0 -1.0   -1.0 -1.0"
      ]
     },
     "execution_count": 7,
     "metadata": {},
     "output_type": "execute_result"
    }
   ],
   "source": [
    "\n",
    "for edge in edge_list:\n",
    "    #print(edge)\n",
    "    if edge[1] == goal:\n",
    "        R[edge] = 100\n",
    "    else:\n",
    "        R[edge] = 0\n",
    "    if edge[0] == goal:\n",
    "        R[edge[::-1]] = 100\n",
    "    else:\n",
    "        R[edge[::-1]] = 0\n",
    "\n",
    "R[goal, goal] = 100\n",
    "\n",
    "pd.DataFrame(R)"
   ]
  },
  {
   "cell_type": "code",
   "execution_count": 8,
   "id": "0790c28a",
   "metadata": {
    "execution": {
     "iopub.execute_input": "2022-03-25T16:23:26.037763Z",
     "iopub.status.busy": "2022-03-25T16:23:26.037061Z",
     "iopub.status.idle": "2022-03-25T16:23:26.040983Z",
     "shell.execute_reply": "2022-03-25T16:23:26.041518Z",
     "shell.execute_reply.started": "2022-03-25T16:18:02.642938Z"
    },
    "papermill": {
     "duration": 0.034999,
     "end_time": "2022-03-25T16:23:26.041696",
     "exception": false,
     "start_time": "2022-03-25T16:23:26.006697",
     "status": "completed"
    },
    "tags": []
   },
   "outputs": [],
   "source": [
    "# discount factor\n",
    "gamma = 0.8\n",
    "# learning rate\n",
    "alpha = 0.3"
   ]
  },
  {
   "cell_type": "code",
   "execution_count": 9,
   "id": "86472145",
   "metadata": {
    "execution": {
     "iopub.execute_input": "2022-03-25T16:23:26.101703Z",
     "iopub.status.busy": "2022-03-25T16:23:26.100861Z",
     "iopub.status.idle": "2022-03-25T16:23:26.104696Z",
     "shell.execute_reply": "2022-03-25T16:23:26.105173Z",
     "shell.execute_reply.started": "2022-03-25T16:18:02.648944Z"
    },
    "papermill": {
     "duration": 0.036585,
     "end_time": "2022-03-25T16:23:26.105388",
     "exception": false,
     "start_time": "2022-03-25T16:23:26.068803",
     "status": "completed"
    },
    "tags": []
   },
   "outputs": [],
   "source": [
    "# buat Q table\n",
    "Q = np.matrix(np.zeros([SIZE_MATRIX, SIZE_MATRIX]))"
   ]
  },
  {
   "cell_type": "code",
   "execution_count": 10,
   "id": "92bc8ebe",
   "metadata": {
    "execution": {
     "iopub.execute_input": "2022-03-25T16:23:26.165792Z",
     "iopub.status.busy": "2022-03-25T16:23:26.165068Z",
     "iopub.status.idle": "2022-03-25T16:23:26.167595Z",
     "shell.execute_reply": "2022-03-25T16:23:26.168110Z",
     "shell.execute_reply.started": "2022-03-25T16:18:02.662056Z"
    },
    "papermill": {
     "duration": 0.035643,
     "end_time": "2022-03-25T16:23:26.168316",
     "exception": false,
     "start_time": "2022-03-25T16:23:26.132673",
     "status": "completed"
    },
    "tags": []
   },
   "outputs": [],
   "source": [
    "def get_available_actions(state):\n",
    "    \"\"\"\n",
    "    Get all actions where the rewards are 0 or greater \n",
    "    are available from the current state. Action is an edge that exists.\n",
    "    \"\"\"\n",
    "    current_state_row = R[state,]\n",
    "    available_actions = np.where(current_state_row >= 0)[1]\n",
    "    return available_actions"
   ]
  },
  {
   "cell_type": "code",
   "execution_count": 11,
   "id": "081223a7",
   "metadata": {
    "execution": {
     "iopub.execute_input": "2022-03-25T16:23:26.228162Z",
     "iopub.status.busy": "2022-03-25T16:23:26.227497Z",
     "iopub.status.idle": "2022-03-25T16:23:26.230401Z",
     "shell.execute_reply": "2022-03-25T16:23:26.229860Z",
     "shell.execute_reply.started": "2022-03-25T16:18:02.677835Z"
    },
    "papermill": {
     "duration": 0.03531,
     "end_time": "2022-03-25T16:23:26.230546",
     "exception": false,
     "start_time": "2022-03-25T16:23:26.195236",
     "status": "completed"
    },
    "tags": []
   },
   "outputs": [],
   "source": [
    "def sample_next_action(available_actions):\n",
    "    \"\"\"\n",
    "    Choose the next state at random\n",
    "    \"\"\"\n",
    "    next_action = int(np.random.choice(available_actions, size=1))\n",
    "    return next_action"
   ]
  },
  {
   "cell_type": "code",
   "execution_count": 12,
   "id": "7ff43afe",
   "metadata": {
    "execution": {
     "iopub.execute_input": "2022-03-25T16:23:26.293536Z",
     "iopub.status.busy": "2022-03-25T16:23:26.292779Z",
     "iopub.status.idle": "2022-03-25T16:23:26.295387Z",
     "shell.execute_reply": "2022-03-25T16:23:26.294865Z",
     "shell.execute_reply.started": "2022-03-25T16:18:02.689800Z"
    },
    "papermill": {
     "duration": 0.036809,
     "end_time": "2022-03-25T16:23:26.295533",
     "exception": false,
     "start_time": "2022-03-25T16:23:26.258724",
     "status": "completed"
    },
    "tags": []
   },
   "outputs": [],
   "source": [
    "def shortest_path(start_state, end_state):\n",
    "    \"\"\"\n",
    "    Test the trained Q-table to find the shortest path\n",
    "    \"\"\"\n",
    "    current_state = start_state\n",
    "    steps = [current_state]\n",
    "\n",
    "    while current_state != end_state:\n",
    "\n",
    "        next_step_index = np.where(Q[current_state,] == np.max(Q[current_state,]))[1]\n",
    "\n",
    "        if next_step_index.shape[0] > 1:\n",
    "            next_step_index = int(np.random.choice(next_step_index, size = 1))\n",
    "        else:\n",
    "            next_step_index = int(next_step_index)\n",
    "\n",
    "        steps.append(next_step_index)\n",
    "        current_state = next_step_index\n",
    "\n",
    "    print(\"Most efficient path:\")\n",
    "    print(steps)"
   ]
  },
  {
   "attachments": {
    "39b9ea43-6e52-46a9-a546-c171986c9a4a.png": {
     "image/png": "[encoded data removed]"
    }
   },
   "cell_type": "markdown",
   "id": "73c5ce9e",
   "metadata": {
    "papermill": {
     "duration": 0.026266,
     "end_time": "2022-03-25T16:23:26.348833",
     "exception": false,
     "start_time": "2022-03-25T16:23:26.322567",
     "status": "completed"
    },
    "tags": []
   },
   "source": [
    "# Q-learning\n",
    "\n",
    "![image.png](attachment:39b9ea43-6e52-46a9-a546-c171986c9a4a.png)"
   ]
  },
  {
   "cell_type": "code",
   "execution_count": 13,
   "id": "c83998f4",
   "metadata": {
    "execution": {
     "iopub.execute_input": "2022-03-25T16:23:26.410404Z",
     "iopub.status.busy": "2022-03-25T16:23:26.409675Z",
     "iopub.status.idle": "2022-03-25T16:23:26.412912Z",
     "shell.execute_reply": "2022-03-25T16:23:26.412368Z",
     "shell.execute_reply.started": "2022-03-25T16:18:02.706697Z"
    },
    "papermill": {
     "duration": 0.037433,
     "end_time": "2022-03-25T16:23:26.413059",
     "exception": false,
     "start_time": "2022-03-25T16:23:26.375626",
     "status": "completed"
    },
    "tags": []
   },
   "outputs": [],
   "source": [
    "def update_Q(current_state, action, gamma):\n",
    "    \"\"\"\n",
    "    Update Q-values in the current Q-table\n",
    "    \"\"\"\n",
    "    \n",
    "    # np.where returns a tuple of ndarrays where the output array contains elements \n",
    "    # of x where condition is True. We pick the second element of the tuple which \n",
    "    # is a list of states where the reward is highest. If there are multiple states \n",
    "    # where the reward is highest, we pick one state at random.\n",
    "    \n",
    "    max_index = np.where(Q[action, ] == np.max(Q[action, ]))[1] \n",
    "\n",
    "    if max_index.shape[0] > 1:\n",
    "        max_index = int(np.random.choice(max_index, size = 1))\n",
    "    else:\n",
    "        max_index = int(max_index)\n",
    "    max_value = Q[action, max_index]\n",
    "\n",
    "    Q[current_state, action] += alpha * (R[current_state, action] + gamma * max_value - Q[current_state, action])  "
   ]
  },
  {
   "cell_type": "markdown",
   "id": "ac1bc482",
   "metadata": {
    "papermill": {
     "duration": 0.026501,
     "end_time": "2022-03-25T16:23:26.466968",
     "exception": false,
     "start_time": "2022-03-25T16:23:26.440467",
     "status": "completed"
    },
    "tags": []
   },
   "source": [
    "## Train menggunakan Q-learning"
   ]
  },
  {
   "cell_type": "code",
   "execution_count": 14,
   "id": "bca403cd",
   "metadata": {
    "execution": {
     "iopub.execute_input": "2022-03-25T16:23:26.525013Z",
     "iopub.status.busy": "2022-03-25T16:23:26.524317Z",
     "iopub.status.idle": "2022-03-25T16:23:26.641394Z",
     "shell.execute_reply": "2022-03-25T16:23:26.641914Z",
     "shell.execute_reply.started": "2022-03-25T16:18:02.717375Z"
    },
    "papermill": {
     "duration": 0.1481,
     "end_time": "2022-03-25T16:23:26.642094",
     "exception": false,
     "start_time": "2022-03-25T16:23:26.493994",
     "status": "completed"
    },
    "tags": []
   },
   "outputs": [
    {
     "name": "stdout",
     "output_type": "stream",
     "text": [
      "Trained Q matrix:\n"
     ]
    },
    {
     "data": {
      "text/html": [
       "<div>\n",
       "<style scoped>\n",
       "    .dataframe tbody tr th:only-of-type {\n",
       "        vertical-align: middle;\n",
       "    }\n",
       "\n",
       "    .dataframe tbody tr th {\n",
       "        vertical-align: top;\n",
       "    }\n",
       "\n",
       "    .dataframe thead th {\n",
       "        text-align: right;\n",
       "    }\n",
       "</style>\n",
       "<table border=\"1\" class=\"dataframe\">\n",
       "  <thead>\n",
       "    <tr style=\"text-align: right;\">\n",
       "      <th></th>\n",
       "      <th>0</th>\n",
       "      <th>1</th>\n",
       "      <th>2</th>\n",
       "      <th>3</th>\n",
       "      <th>4</th>\n",
       "      <th>5</th>\n",
       "      <th>6</th>\n",
       "      <th>7</th>\n",
       "      <th>8</th>\n",
       "      <th>9</th>\n",
       "      <th>10</th>\n",
       "    </tr>\n",
       "  </thead>\n",
       "  <tbody>\n",
       "    <tr>\n",
       "      <th>0</th>\n",
       "      <td>0.000000</td>\n",
       "      <td>126.209719</td>\n",
       "      <td>248.261977</td>\n",
       "      <td>264.499526</td>\n",
       "      <td>0.000000</td>\n",
       "      <td>0.000000</td>\n",
       "      <td>190.598683</td>\n",
       "      <td>0.000000</td>\n",
       "      <td>147.834274</td>\n",
       "      <td>0.000000</td>\n",
       "      <td>0.000000</td>\n",
       "    </tr>\n",
       "    <tr>\n",
       "      <th>1</th>\n",
       "      <td>200.856109</td>\n",
       "      <td>0.000000</td>\n",
       "      <td>0.000000</td>\n",
       "      <td>0.000000</td>\n",
       "      <td>0.000000</td>\n",
       "      <td>0.000000</td>\n",
       "      <td>0.000000</td>\n",
       "      <td>0.000000</td>\n",
       "      <td>0.000000</td>\n",
       "      <td>0.000000</td>\n",
       "      <td>111.675035</td>\n",
       "    </tr>\n",
       "    <tr>\n",
       "      <th>2</th>\n",
       "      <td>199.203363</td>\n",
       "      <td>0.000000</td>\n",
       "      <td>0.000000</td>\n",
       "      <td>0.000000</td>\n",
       "      <td>340.831634</td>\n",
       "      <td>0.000000</td>\n",
       "      <td>0.000000</td>\n",
       "      <td>0.000000</td>\n",
       "      <td>0.000000</td>\n",
       "      <td>0.000000</td>\n",
       "      <td>0.000000</td>\n",
       "    </tr>\n",
       "    <tr>\n",
       "      <th>3</th>\n",
       "      <td>197.923163</td>\n",
       "      <td>0.000000</td>\n",
       "      <td>0.000000</td>\n",
       "      <td>0.000000</td>\n",
       "      <td>0.000000</td>\n",
       "      <td>263.548268</td>\n",
       "      <td>0.000000</td>\n",
       "      <td>349.955156</td>\n",
       "      <td>0.000000</td>\n",
       "      <td>0.000000</td>\n",
       "      <td>0.000000</td>\n",
       "    </tr>\n",
       "    <tr>\n",
       "      <th>4</th>\n",
       "      <td>0.000000</td>\n",
       "      <td>0.000000</td>\n",
       "      <td>248.371554</td>\n",
       "      <td>0.000000</td>\n",
       "      <td>0.000000</td>\n",
       "      <td>0.000000</td>\n",
       "      <td>0.000000</td>\n",
       "      <td>350.220619</td>\n",
       "      <td>0.000000</td>\n",
       "      <td>432.721013</td>\n",
       "      <td>0.000000</td>\n",
       "    </tr>\n",
       "    <tr>\n",
       "      <th>5</th>\n",
       "      <td>0.000000</td>\n",
       "      <td>0.000000</td>\n",
       "      <td>0.000000</td>\n",
       "      <td>271.447676</td>\n",
       "      <td>0.000000</td>\n",
       "      <td>0.000000</td>\n",
       "      <td>199.866370</td>\n",
       "      <td>345.880432</td>\n",
       "      <td>0.000000</td>\n",
       "      <td>0.000000</td>\n",
       "      <td>0.000000</td>\n",
       "    </tr>\n",
       "    <tr>\n",
       "      <th>6</th>\n",
       "      <td>195.945539</td>\n",
       "      <td>0.000000</td>\n",
       "      <td>0.000000</td>\n",
       "      <td>0.000000</td>\n",
       "      <td>0.000000</td>\n",
       "      <td>270.293288</td>\n",
       "      <td>0.000000</td>\n",
       "      <td>0.000000</td>\n",
       "      <td>0.000000</td>\n",
       "      <td>0.000000</td>\n",
       "      <td>0.000000</td>\n",
       "    </tr>\n",
       "    <tr>\n",
       "      <th>7</th>\n",
       "      <td>0.000000</td>\n",
       "      <td>0.000000</td>\n",
       "      <td>0.000000</td>\n",
       "      <td>258.574559</td>\n",
       "      <td>339.547966</td>\n",
       "      <td>260.050783</td>\n",
       "      <td>0.000000</td>\n",
       "      <td>0.000000</td>\n",
       "      <td>0.000000</td>\n",
       "      <td>443.451823</td>\n",
       "      <td>0.000000</td>\n",
       "    </tr>\n",
       "    <tr>\n",
       "      <th>8</th>\n",
       "      <td>209.989910</td>\n",
       "      <td>0.000000</td>\n",
       "      <td>0.000000</td>\n",
       "      <td>0.000000</td>\n",
       "      <td>0.000000</td>\n",
       "      <td>0.000000</td>\n",
       "      <td>0.000000</td>\n",
       "      <td>0.000000</td>\n",
       "      <td>0.000000</td>\n",
       "      <td>0.000000</td>\n",
       "      <td>0.000000</td>\n",
       "    </tr>\n",
       "    <tr>\n",
       "      <th>9</th>\n",
       "      <td>0.000000</td>\n",
       "      <td>0.000000</td>\n",
       "      <td>0.000000</td>\n",
       "      <td>0.000000</td>\n",
       "      <td>339.092228</td>\n",
       "      <td>0.000000</td>\n",
       "      <td>0.000000</td>\n",
       "      <td>345.051475</td>\n",
       "      <td>0.000000</td>\n",
       "      <td>446.101990</td>\n",
       "      <td>0.000000</td>\n",
       "    </tr>\n",
       "    <tr>\n",
       "      <th>10</th>\n",
       "      <td>0.000000</td>\n",
       "      <td>141.651605</td>\n",
       "      <td>0.000000</td>\n",
       "      <td>0.000000</td>\n",
       "      <td>0.000000</td>\n",
       "      <td>0.000000</td>\n",
       "      <td>0.000000</td>\n",
       "      <td>0.000000</td>\n",
       "      <td>0.000000</td>\n",
       "      <td>0.000000</td>\n",
       "      <td>0.000000</td>\n",
       "    </tr>\n",
       "  </tbody>\n",
       "</table>\n",
       "</div>"
      ],
      "text/plain": [
       "            0           1           2           3           4           5   \\\n",
       "0     0.000000  126.209719  248.261977  264.499526    0.000000    0.000000   \n",
       "1   200.856109    0.000000    0.000000    0.000000    0.000000    0.000000   \n",
       "2   199.203363    0.000000    0.000000    0.000000  340.831634    0.000000   \n",
       "3   197.923163    0.000000    0.000000    0.000000    0.000000  263.548268   \n",
       "4     0.000000    0.000000  248.371554    0.000000    0.000000    0.000000   \n",
       "5     0.000000    0.000000    0.000000  271.447676    0.000000    0.000000   \n",
       "6   195.945539    0.000000    0.000000    0.000000    0.000000  270.293288   \n",
       "7     0.000000    0.000000    0.000000  258.574559  339.547966  260.050783   \n",
       "8   209.989910    0.000000    0.000000    0.000000    0.000000    0.000000   \n",
       "9     0.000000    0.000000    0.000000    0.000000  339.092228    0.000000   \n",
       "10    0.000000  141.651605    0.000000    0.000000    0.000000    0.000000   \n",
       "\n",
       "            6           7           8           9           10  \n",
       "0   190.598683    0.000000  147.834274    0.000000    0.000000  \n",
       "1     0.000000    0.000000    0.000000    0.000000  111.675035  \n",
       "2     0.000000    0.000000    0.000000    0.000000    0.000000  \n",
       "3     0.000000  349.955156    0.000000    0.000000    0.000000  \n",
       "4     0.000000  350.220619    0.000000  432.721013    0.000000  \n",
       "5   199.866370  345.880432    0.000000    0.000000    0.000000  \n",
       "6     0.000000    0.000000    0.000000    0.000000    0.000000  \n",
       "7     0.000000    0.000000    0.000000  443.451823    0.000000  \n",
       "8     0.000000    0.000000    0.000000    0.000000    0.000000  \n",
       "9     0.000000  345.051475    0.000000  446.101990    0.000000  \n",
       "10    0.000000    0.000000    0.000000    0.000000    0.000000  "
      ]
     },
     "execution_count": 14,
     "metadata": {},
     "output_type": "execute_result"
    }
   ],
   "source": [
    "for i in range(1000):\n",
    "    current_state = np.random.randint(0, int(Q.shape[0])) \n",
    "    available_action = get_available_actions(current_state)\n",
    "    action = sample_next_action(available_action)\n",
    "    update_Q(current_state, action, gamma)\n",
    "\n",
    "print(\"Trained Q matrix:\")\n",
    "pd.DataFrame(Q)"
   ]
  },
  {
   "cell_type": "markdown",
   "id": "6d524a37",
   "metadata": {
    "papermill": {
     "duration": 0.027633,
     "end_time": "2022-03-25T16:23:26.697802",
     "exception": false,
     "start_time": "2022-03-25T16:23:26.670169",
     "status": "completed"
    },
    "tags": []
   },
   "source": [
    "## Test shortest path, trained using Q-learning method"
   ]
  },
  {
   "cell_type": "code",
   "execution_count": 15,
   "id": "39081ea5",
   "metadata": {
    "execution": {
     "iopub.execute_input": "2022-03-25T16:23:26.757540Z",
     "iopub.status.busy": "2022-03-25T16:23:26.756783Z",
     "iopub.status.idle": "2022-03-25T16:23:26.762654Z",
     "shell.execute_reply": "2022-03-25T16:23:26.763668Z",
     "shell.execute_reply.started": "2022-03-25T16:18:02.858463Z"
    },
    "papermill": {
     "duration": 0.038341,
     "end_time": "2022-03-25T16:23:26.763995",
     "exception": false,
     "start_time": "2022-03-25T16:23:26.725654",
     "status": "completed"
    },
    "tags": []
   },
   "outputs": [
    {
     "name": "stdout",
     "output_type": "stream",
     "text": [
      "Most efficient path:\n",
      "[0, 3, 7, 9]\n"
     ]
    }
   ],
   "source": [
    "shortest_path(initial_state, goal)"
   ]
  },
  {
   "attachments": {
    "b2fdd28b-8947-4540-8f64-b51b0ec87429.png": {
     "image/png": "[encoded data removed]"
    }
   },
   "cell_type": "markdown",
   "id": "7d41c284",
   "metadata": {
    "papermill": {
     "duration": 0.02866,
     "end_time": "2022-03-25T16:23:26.822410",
     "exception": false,
     "start_time": "2022-03-25T16:23:26.793750",
     "status": "completed"
    },
    "tags": []
   },
   "source": [
    "# SARSA\n",
    "![image.png](attachment:b2fdd28b-8947-4540-8f64-b51b0ec87429.png)"
   ]
  },
  {
   "cell_type": "code",
   "execution_count": 16,
   "id": "1a898802",
   "metadata": {
    "execution": {
     "iopub.execute_input": "2022-03-25T16:23:26.883555Z",
     "iopub.status.busy": "2022-03-25T16:23:26.882880Z",
     "iopub.status.idle": "2022-03-25T16:23:26.888019Z",
     "shell.execute_reply": "2022-03-25T16:23:26.888579Z",
     "shell.execute_reply.started": "2022-03-25T16:18:02.865658Z"
    },
    "papermill": {
     "duration": 0.037652,
     "end_time": "2022-03-25T16:23:26.888758",
     "exception": false,
     "start_time": "2022-03-25T16:23:26.851106",
     "status": "completed"
    },
    "tags": []
   },
   "outputs": [],
   "source": [
    "def update_Q_SARSA(current_state, action, gamma):\n",
    "    \"\"\"\n",
    "    Update Q-values in the current Q-table using SARSA\n",
    "    \"\"\"\n",
    "    available_action = get_available_actions(action)\n",
    "    next_action = sample_next_action(available_action)\n",
    "    next_state = action\n",
    "\n",
    "    Q[current_state, action] += alpha * (R[current_state, action] + gamma * Q[next_state, next_action] - Q[current_state, action])  "
   ]
  },
  {
   "cell_type": "markdown",
   "id": "c9c972a3",
   "metadata": {
    "papermill": {
     "duration": 0.028403,
     "end_time": "2022-03-25T16:23:26.946347",
     "exception": false,
     "start_time": "2022-03-25T16:23:26.917944",
     "status": "completed"
    },
    "tags": []
   },
   "source": [
    "## Train menggunakan SARSA"
   ]
  },
  {
   "cell_type": "code",
   "execution_count": 17,
   "id": "4fe375b4",
   "metadata": {
    "execution": {
     "iopub.execute_input": "2022-03-25T16:23:27.007709Z",
     "iopub.status.busy": "2022-03-25T16:23:27.006981Z",
     "iopub.status.idle": "2022-03-25T16:23:27.011208Z",
     "shell.execute_reply": "2022-03-25T16:23:27.011945Z",
     "shell.execute_reply.started": "2022-03-25T16:18:02.877170Z"
    },
    "papermill": {
     "duration": 0.037103,
     "end_time": "2022-03-25T16:23:27.012162",
     "exception": false,
     "start_time": "2022-03-25T16:23:26.975059",
     "status": "completed"
    },
    "tags": []
   },
   "outputs": [],
   "source": [
    "#inisialisasi Q-matrix\n",
    "Q = np.matrix(np.zeros([SIZE_MATRIX, SIZE_MATRIX]))"
   ]
  },
  {
   "cell_type": "code",
   "execution_count": 18,
   "id": "7d3766d3",
   "metadata": {
    "execution": {
     "iopub.execute_input": "2022-03-25T16:23:27.074939Z",
     "iopub.status.busy": "2022-03-25T16:23:27.074220Z",
     "iopub.status.idle": "2022-03-25T16:23:27.197224Z",
     "shell.execute_reply": "2022-03-25T16:23:27.196644Z",
     "shell.execute_reply.started": "2022-03-25T16:18:02.889506Z"
    },
    "papermill": {
     "duration": 0.155506,
     "end_time": "2022-03-25T16:23:27.197413",
     "exception": false,
     "start_time": "2022-03-25T16:23:27.041907",
     "status": "completed"
    },
    "tags": []
   },
   "outputs": [
    {
     "name": "stdout",
     "output_type": "stream",
     "text": [
      "Trained Q matrix:\n"
     ]
    },
    {
     "data": {
      "text/html": [
       "<div>\n",
       "<style scoped>\n",
       "    .dataframe tbody tr th:only-of-type {\n",
       "        vertical-align: middle;\n",
       "    }\n",
       "\n",
       "    .dataframe tbody tr th {\n",
       "        vertical-align: top;\n",
       "    }\n",
       "\n",
       "    .dataframe thead th {\n",
       "        text-align: right;\n",
       "    }\n",
       "</style>\n",
       "<table border=\"1\" class=\"dataframe\">\n",
       "  <thead>\n",
       "    <tr style=\"text-align: right;\">\n",
       "      <th></th>\n",
       "      <th>0</th>\n",
       "      <th>1</th>\n",
       "      <th>2</th>\n",
       "      <th>3</th>\n",
       "      <th>4</th>\n",
       "      <th>5</th>\n",
       "      <th>6</th>\n",
       "      <th>7</th>\n",
       "      <th>8</th>\n",
       "      <th>9</th>\n",
       "      <th>10</th>\n",
       "    </tr>\n",
       "  </thead>\n",
       "  <tbody>\n",
       "    <tr>\n",
       "      <th>0</th>\n",
       "      <td>0.000000</td>\n",
       "      <td>9.090631</td>\n",
       "      <td>28.320022</td>\n",
       "      <td>27.478562</td>\n",
       "      <td>0.000000</td>\n",
       "      <td>0.000000</td>\n",
       "      <td>8.987848</td>\n",
       "      <td>0.000000</td>\n",
       "      <td>7.781316</td>\n",
       "      <td>0.000000</td>\n",
       "      <td>0.000000</td>\n",
       "    </tr>\n",
       "    <tr>\n",
       "      <th>1</th>\n",
       "      <td>12.498151</td>\n",
       "      <td>0.000000</td>\n",
       "      <td>0.000000</td>\n",
       "      <td>0.000000</td>\n",
       "      <td>0.000000</td>\n",
       "      <td>0.000000</td>\n",
       "      <td>0.000000</td>\n",
       "      <td>0.000000</td>\n",
       "      <td>0.000000</td>\n",
       "      <td>0.000000</td>\n",
       "      <td>6.315321</td>\n",
       "    </tr>\n",
       "    <tr>\n",
       "      <th>2</th>\n",
       "      <td>13.855504</td>\n",
       "      <td>0.000000</td>\n",
       "      <td>0.000000</td>\n",
       "      <td>0.000000</td>\n",
       "      <td>32.051694</td>\n",
       "      <td>0.000000</td>\n",
       "      <td>0.000000</td>\n",
       "      <td>0.000000</td>\n",
       "      <td>0.000000</td>\n",
       "      <td>0.000000</td>\n",
       "      <td>0.000000</td>\n",
       "    </tr>\n",
       "    <tr>\n",
       "      <th>3</th>\n",
       "      <td>16.994953</td>\n",
       "      <td>0.000000</td>\n",
       "      <td>0.000000</td>\n",
       "      <td>0.000000</td>\n",
       "      <td>0.000000</td>\n",
       "      <td>21.342427</td>\n",
       "      <td>0.000000</td>\n",
       "      <td>71.246239</td>\n",
       "      <td>0.000000</td>\n",
       "      <td>0.000000</td>\n",
       "      <td>0.000000</td>\n",
       "    </tr>\n",
       "    <tr>\n",
       "      <th>4</th>\n",
       "      <td>0.000000</td>\n",
       "      <td>0.000000</td>\n",
       "      <td>26.952053</td>\n",
       "      <td>0.000000</td>\n",
       "      <td>0.000000</td>\n",
       "      <td>0.000000</td>\n",
       "      <td>0.000000</td>\n",
       "      <td>82.189672</td>\n",
       "      <td>0.000000</td>\n",
       "      <td>192.362316</td>\n",
       "      <td>0.000000</td>\n",
       "    </tr>\n",
       "    <tr>\n",
       "      <th>5</th>\n",
       "      <td>0.000000</td>\n",
       "      <td>0.000000</td>\n",
       "      <td>0.000000</td>\n",
       "      <td>12.992587</td>\n",
       "      <td>0.000000</td>\n",
       "      <td>0.000000</td>\n",
       "      <td>10.662077</td>\n",
       "      <td>81.504179</td>\n",
       "      <td>0.000000</td>\n",
       "      <td>0.000000</td>\n",
       "      <td>0.000000</td>\n",
       "    </tr>\n",
       "    <tr>\n",
       "      <th>6</th>\n",
       "      <td>5.666727</td>\n",
       "      <td>0.000000</td>\n",
       "      <td>0.000000</td>\n",
       "      <td>0.000000</td>\n",
       "      <td>0.000000</td>\n",
       "      <td>23.685323</td>\n",
       "      <td>0.000000</td>\n",
       "      <td>0.000000</td>\n",
       "      <td>0.000000</td>\n",
       "      <td>0.000000</td>\n",
       "      <td>0.000000</td>\n",
       "    </tr>\n",
       "    <tr>\n",
       "      <th>7</th>\n",
       "      <td>0.000000</td>\n",
       "      <td>0.000000</td>\n",
       "      <td>0.000000</td>\n",
       "      <td>15.910203</td>\n",
       "      <td>57.893406</td>\n",
       "      <td>30.445647</td>\n",
       "      <td>0.000000</td>\n",
       "      <td>0.000000</td>\n",
       "      <td>0.000000</td>\n",
       "      <td>158.436475</td>\n",
       "      <td>0.000000</td>\n",
       "    </tr>\n",
       "    <tr>\n",
       "      <th>8</th>\n",
       "      <td>19.587867</td>\n",
       "      <td>0.000000</td>\n",
       "      <td>0.000000</td>\n",
       "      <td>0.000000</td>\n",
       "      <td>0.000000</td>\n",
       "      <td>0.000000</td>\n",
       "      <td>0.000000</td>\n",
       "      <td>0.000000</td>\n",
       "      <td>0.000000</td>\n",
       "      <td>0.000000</td>\n",
       "      <td>0.000000</td>\n",
       "    </tr>\n",
       "    <tr>\n",
       "      <th>9</th>\n",
       "      <td>0.000000</td>\n",
       "      <td>0.000000</td>\n",
       "      <td>0.000000</td>\n",
       "      <td>0.000000</td>\n",
       "      <td>62.230927</td>\n",
       "      <td>0.000000</td>\n",
       "      <td>0.000000</td>\n",
       "      <td>79.354523</td>\n",
       "      <td>0.000000</td>\n",
       "      <td>203.015263</td>\n",
       "      <td>0.000000</td>\n",
       "    </tr>\n",
       "    <tr>\n",
       "      <th>10</th>\n",
       "      <td>0.000000</td>\n",
       "      <td>9.593681</td>\n",
       "      <td>0.000000</td>\n",
       "      <td>0.000000</td>\n",
       "      <td>0.000000</td>\n",
       "      <td>0.000000</td>\n",
       "      <td>0.000000</td>\n",
       "      <td>0.000000</td>\n",
       "      <td>0.000000</td>\n",
       "      <td>0.000000</td>\n",
       "      <td>0.000000</td>\n",
       "    </tr>\n",
       "  </tbody>\n",
       "</table>\n",
       "</div>"
      ],
      "text/plain": [
       "           0         1          2          3          4          5   \\\n",
       "0    0.000000  9.090631  28.320022  27.478562   0.000000   0.000000   \n",
       "1   12.498151  0.000000   0.000000   0.000000   0.000000   0.000000   \n",
       "2   13.855504  0.000000   0.000000   0.000000  32.051694   0.000000   \n",
       "3   16.994953  0.000000   0.000000   0.000000   0.000000  21.342427   \n",
       "4    0.000000  0.000000  26.952053   0.000000   0.000000   0.000000   \n",
       "5    0.000000  0.000000   0.000000  12.992587   0.000000   0.000000   \n",
       "6    5.666727  0.000000   0.000000   0.000000   0.000000  23.685323   \n",
       "7    0.000000  0.000000   0.000000  15.910203  57.893406  30.445647   \n",
       "8   19.587867  0.000000   0.000000   0.000000   0.000000   0.000000   \n",
       "9    0.000000  0.000000   0.000000   0.000000  62.230927   0.000000   \n",
       "10   0.000000  9.593681   0.000000   0.000000   0.000000   0.000000   \n",
       "\n",
       "           6          7         8           9         10  \n",
       "0    8.987848   0.000000  7.781316    0.000000  0.000000  \n",
       "1    0.000000   0.000000  0.000000    0.000000  6.315321  \n",
       "2    0.000000   0.000000  0.000000    0.000000  0.000000  \n",
       "3    0.000000  71.246239  0.000000    0.000000  0.000000  \n",
       "4    0.000000  82.189672  0.000000  192.362316  0.000000  \n",
       "5   10.662077  81.504179  0.000000    0.000000  0.000000  \n",
       "6    0.000000   0.000000  0.000000    0.000000  0.000000  \n",
       "7    0.000000   0.000000  0.000000  158.436475  0.000000  \n",
       "8    0.000000   0.000000  0.000000    0.000000  0.000000  \n",
       "9    0.000000  79.354523  0.000000  203.015263  0.000000  \n",
       "10   0.000000   0.000000  0.000000    0.000000  0.000000  "
      ]
     },
     "execution_count": 18,
     "metadata": {},
     "output_type": "execute_result"
    }
   ],
   "source": [
    "for i in range(1000):\n",
    "    current_state = np.random.randint(0, int(Q.shape[0])) \n",
    "    available_action = get_available_actions(current_state)\n",
    "    action = sample_next_action(available_action)\n",
    "    update_Q_SARSA(current_state, action, gamma)\n",
    "\n",
    "print(\"Trained Q matrix:\")\n",
    "pd.DataFrame(Q)"
   ]
  },
  {
   "cell_type": "code",
   "execution_count": 19,
   "id": "1d1d3633",
   "metadata": {
    "execution": {
     "iopub.execute_input": "2022-03-25T16:23:27.327761Z",
     "iopub.status.busy": "2022-03-25T16:23:27.327037Z",
     "iopub.status.idle": "2022-03-25T16:23:27.329542Z",
     "shell.execute_reply": "2022-03-25T16:23:27.330012Z",
     "shell.execute_reply.started": "2022-03-25T16:18:03.015618Z"
    },
    "papermill": {
     "duration": 0.038048,
     "end_time": "2022-03-25T16:23:27.330184",
     "exception": false,
     "start_time": "2022-03-25T16:23:27.292136",
     "status": "completed"
    },
    "tags": []
   },
   "outputs": [
    {
     "name": "stdout",
     "output_type": "stream",
     "text": [
      "Most efficient path:\n",
      "[0, 2, 4, 9]\n"
     ]
    }
   ],
   "source": [
    "shortest_path(initial_state, goal)"
   ]
  }
 ],
 "metadata": {
  "kernelspec": {
   "display_name": "Python 3 (ipykernel)",
   "language": "python",
   "name": "python3"
  },
  "language_info": {
   "codemirror_mode": {
    "name": "ipython",
    "version": 3
   },
   "file_extension": ".py",
   "mimetype": "text/x-python",
   "name": "python",
   "nbconvert_exporter": "python",
   "pygments_lexer": "ipython3",
   "version": "3.9.12"
  },
  "papermill": {
   "default_parameters": {},
   "duration": 13.469784,
   "end_time": "2022-03-25T16:23:28.072019",
   "environment_variables": {},
   "exception": null,
   "input_path": "__notebook__.ipynb",
   "output_path": "__notebook__.ipynb",
   "parameters": {},
   "start_time": "2022-03-25T16:23:14.602235",
   "version": "2.3.3"
  }
 },
 "nbformat": 4,
 "nbformat_minor": 5
}
